{
 "cells": [
  {
   "cell_type": "code",
   "execution_count": null,
   "metadata": {},
   "outputs": [],
   "source": [
    "import numpy as np\n",
    "from plot_bezier import plot_bezier\n",
    "import matplotlib.pyplot as plt"
   ]
  },
  {
   "cell_type": "code",
   "execution_count": null,
   "metadata": {},
   "outputs": [],
   "source": [
    "\n",
    "def cubic_bezier_points(control_points, t_values):\n",
    "    # Define the characteristic matrix for cubic Bézier curve\n",
    "    M = np.array([\n",
    "        [1, 0, 0, 0],\n",
    "        [-3, 3, 0, 0],\n",
    "        [3, -6, 3, 0],\n",
    "        [-1, 3, -3, 1]\n",
    "    ])\n",
    "    \n",
    "    # Compute the points on the Bézier curve for each t value\n",
    "    bezier_points = []\n",
    "    for t in t_values:\n",
    "        T = np.array([1, t, t**2, t**3])\n",
    "        point = T @ M @ control_points  # Matrix multiplication to get the point\n",
    "        bezier_points.append(point)\n",
    "    \n",
    "    return np.array(bezier_points)\n",
    "\n",
    "def numeric_distance_integration(control_points, resolution=1000):\n",
    "    t_values = np.linspace(0, 1, resolution+1)\n",
    "    bezier_points = cubic_bezier_points(control_points, t_values)\n",
    "    distance = np.sqrt(np.sum(np.power(bezier_points[:-1,:] - bezier_points[1:,:],2),axis=-1))\n",
    "    return distance\n",
    "\n",
    "def cubic_bezier_points_equdistant(control_points, count=20, resolution=1000):\n",
    "    x = np.linspace(0, 1, resolution)\n",
    "    y = numeric_distance_integration(control_points, resolution=resolution)\n",
    "    length = np.sum(y)\n",
    "    t_values_equidistant = np.interp(np.linspace(0, 1, count),y.cumsum()/length,x,)\n",
    "    return cubic_bezier_points(control_points, t_values_equidistant)"
   ]
  },
  {
   "cell_type": "code",
   "execution_count": null,
   "metadata": {},
   "outputs": [],
   "source": [
    "\n",
    "# Example control points (P0, P1, P2, P3)\n",
    "control_points = np.array([\n",
    "    [1, 1, 2],  # P0\n",
    "    [8, 8, 2],  # P1\n",
    "    [8, 5, 8],  # P2\n",
    "    [8, 2, 8]   # P3\n",
    "])\n",
    "\n",
    "# Example t values\n",
    "t_values = np.linspace(0, 1, 15)  # 10 points from 0 to 1\n",
    "\n",
    "# Calculate bezier points\n",
    "bezier_points = cubic_bezier_points(control_points, t_values)\n",
    "\n",
    "plot_bezier(control_points, bezier_points)"
   ]
  },
  {
   "cell_type": "code",
   "execution_count": null,
   "metadata": {},
   "outputs": [],
   "source": [
    "\n",
    "\n",
    "bezier_points = cubic_bezier_points_equdistant(control_points)\n",
    "plot_bezier(control_points, bezier_points)"
   ]
  },
  {
   "cell_type": "code",
   "execution_count": null,
   "metadata": {},
   "outputs": [],
   "source": [
    "def cubic_bezier_points_extended(control_points, t_values):\n",
    "    # Define the characteristic matrix for cubic Bézier curve\n",
    "    M = np.array([\n",
    "        [1, 0, 0, 0],\n",
    "        [-3, 3, 0, 0],\n",
    "        [3, -6, 3, 0],\n",
    "        [-1, 3, -3, 1]\n",
    "    ])\n",
    "    \n",
    "    # Calculate the number of segments based on the control points\n",
    "    n = (len(control_points) - 1) // 3\n",
    "    \n",
    "    # Initialize the list to hold the computed points\n",
    "    bezier_points = []\n",
    "    \n",
    "    for t in t_values:\n",
    "        # Determine which segment this t value falls into\n",
    "        segment_index = int(t)  # This will floor the t value to the nearest integer\n",
    "        if segment_index >= n:\n",
    "            segment_index = n - 1  # Clamp to the last segment for t values out of range\n",
    "        \n",
    "        # Normalize t to the local coordinate system of the current segment [0, 1]\n",
    "        local_t = t - segment_index\n",
    "        \n",
    "        # Select the appropriate control points for the current segment\n",
    "        cp_index = segment_index * 3\n",
    "        segment_control_points = control_points[cp_index:cp_index+4]\n",
    "        \n",
    "        # Compute the T vector for the cubic Bézier curve\n",
    "        T = np.array([1, local_t, local_t**2, local_t**3])\n",
    "        \n",
    "        # Compute the point on the curve for the current t value\n",
    "        point = T @ M @ segment_control_points  # Matrix multiplication to get the point\n",
    "        bezier_points.append(point)\n",
    "    \n",
    "    return np.array(bezier_points)\n",
    "\n",
    "def numeric_distance_integration(control_points, resolution=1000):\n",
    "    n_segments = (len(control_points) - 1) // 3\n",
    "    t_values = np.linspace(0, n_segments, resolution+1)\n",
    "    bezier_points = cubic_bezier_points_extended(control_points, t_values)\n",
    "    distance = np.sqrt(np.sum(np.power(bezier_points[:-1,:] - bezier_points[1:,:],2),axis=-1))\n",
    "    return distance\n",
    "\n",
    "def cubic_bezier_points_equdistant(control_points, count=20, resolution=1000):\n",
    "    n_segments = (len(control_points) - 1) // 3\n",
    "    x = np.linspace(0, n_segments, resolution)\n",
    "    y = numeric_distance_integration(control_points, resolution=resolution)\n",
    "    length = np.sum(y)\n",
    "    t_values_equidistant = np.interp(np.linspace(0, 1, count),y.cumsum()/length,x,)\n",
    "    return cubic_bezier_points_extended(control_points, t_values_equidistant)"
   ]
  },
  {
   "cell_type": "code",
   "execution_count": null,
   "metadata": {},
   "outputs": [],
   "source": [
    "control_points = np.array([\n",
    "    [1, 1, 2],\n",
    "    [8, 8, 2],\n",
    "    [8, 5, 8],\n",
    "    [8, 2, 8],\n",
    "    [7, 2, 2],\n",
    "    [2, 5, 8],\n",
    "    [5, 5, 5],\n",
    "])\n",
    "bezier_points = cubic_bezier_points_equdistant(control_points, 30)\n",
    "plot_bezier(control_points, bezier_points)"
   ]
  }
 ],
 "metadata": {
  "kernelspec": {
   "display_name": "Python 3",
   "language": "python",
   "name": "python3"
  },
  "language_info": {
   "codemirror_mode": {
    "name": "ipython",
    "version": 3
   },
   "file_extension": ".py",
   "mimetype": "text/x-python",
   "name": "python",
   "nbconvert_exporter": "python",
   "pygments_lexer": "ipython3",
   "version": "3.12.2"
  }
 },
 "nbformat": 4,
 "nbformat_minor": 2
}
